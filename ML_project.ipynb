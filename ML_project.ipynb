{
  "nbformat": 4,
  "nbformat_minor": 0,
  "metadata": {
    "colab": {
      "provenance": []
    },
    "kernelspec": {
      "name": "python3",
      "display_name": "Python 3"
    },
    "language_info": {
      "name": "python"
    },
    "accelerator": "GPU",
    "gpuClass": "standard"
  },
  "cells": [
    {
      "cell_type": "code",
      "execution_count": 1,
      "metadata": {
        "id": "q9Ai4PMWLp89"
      },
      "outputs": [],
      "source": [
        "import numpy as np\n",
        "import pandas as pd\n",
        "import torch\n",
        "# ! pip install sentence_transformers\n",
        "# from sentence_transformers import SentenceTransformer\n",
        "from sklearn.model_selection import train_test_split\n",
        "import gensim\n",
        "from gensim.test.utils import common_texts\n",
        "from gensim.models import Word2Vec"
      ]
    },
    {
      "cell_type": "markdown",
      "source": [
        "# Load the data"
      ],
      "metadata": {
        "id": "NJDk1CEaNVOI"
      }
    },
    {
      "cell_type": "code",
      "source": [
        "data = pd.read_csv(\"drive/MyDrive/Colab Notebooks/data_processed.csv\")\n",
        "data"
      ],
      "metadata": {
        "colab": {
          "base_uri": "https://localhost:8080/",
          "height": 424
        },
        "id": "LFjRWQYENWvq",
        "outputId": "b1020c38-c096-49d5-febd-3dc3609f3122"
      },
      "execution_count": 2,
      "outputs": [
        {
          "output_type": "execute_result",
          "data": {
            "text/plain": [
              "       Unnamed: 0  count  hate_speech  offensive_language  neither  class  \\\n",
              "0               0      3            0                   0        3      2   \n",
              "1               1      3            0                   3        0      1   \n",
              "2               2      3            0                   3        0      1   \n",
              "3               3      3            0                   2        1      1   \n",
              "4               4      6            0                   6        0      1   \n",
              "...           ...    ...          ...                 ...      ...    ...   \n",
              "24768       25291      3            0                   2        1      1   \n",
              "24769       25292      3            0                   1        2      2   \n",
              "24770       25294      3            0                   3        0      1   \n",
              "24771       25295      6            0                   6        0      1   \n",
              "24772       25296      3            0                   0        3      2   \n",
              "\n",
              "                                                   tweet  \n",
              "0       as a woman you shouldnt complain about cleani...  \n",
              "1       boy dats coldtyga dwn bad for cufin dat hoe i...  \n",
              "2       dawg you ever fuck a bitch and she start to c...  \n",
              "3                                   she lok like a trany  \n",
              "4       the shit you hear about me might be true or i...  \n",
              "...                                                  ...  \n",
              "24768  yous a muthafin lie right his tl is trash now ...  \n",
              "24769  youve gone and broke the wrong heart baby and ...  \n",
              "24770  young buck wana eat dat niguh like i aint fuck...  \n",
              "24771                you got wild bitches telin you lies  \n",
              "24772  rufled ntac eilen dahlia beautiful color combi...  \n",
              "\n",
              "[24773 rows x 7 columns]"
            ],
            "text/html": [
              "\n",
              "  <div id=\"df-36d6f5f7-e93e-401e-bca6-0ea9f167bfc8\">\n",
              "    <div class=\"colab-df-container\">\n",
              "      <div>\n",
              "<style scoped>\n",
              "    .dataframe tbody tr th:only-of-type {\n",
              "        vertical-align: middle;\n",
              "    }\n",
              "\n",
              "    .dataframe tbody tr th {\n",
              "        vertical-align: top;\n",
              "    }\n",
              "\n",
              "    .dataframe thead th {\n",
              "        text-align: right;\n",
              "    }\n",
              "</style>\n",
              "<table border=\"1\" class=\"dataframe\">\n",
              "  <thead>\n",
              "    <tr style=\"text-align: right;\">\n",
              "      <th></th>\n",
              "      <th>Unnamed: 0</th>\n",
              "      <th>count</th>\n",
              "      <th>hate_speech</th>\n",
              "      <th>offensive_language</th>\n",
              "      <th>neither</th>\n",
              "      <th>class</th>\n",
              "      <th>tweet</th>\n",
              "    </tr>\n",
              "  </thead>\n",
              "  <tbody>\n",
              "    <tr>\n",
              "      <th>0</th>\n",
              "      <td>0</td>\n",
              "      <td>3</td>\n",
              "      <td>0</td>\n",
              "      <td>0</td>\n",
              "      <td>3</td>\n",
              "      <td>2</td>\n",
              "      <td>as a woman you shouldnt complain about cleani...</td>\n",
              "    </tr>\n",
              "    <tr>\n",
              "      <th>1</th>\n",
              "      <td>1</td>\n",
              "      <td>3</td>\n",
              "      <td>0</td>\n",
              "      <td>3</td>\n",
              "      <td>0</td>\n",
              "      <td>1</td>\n",
              "      <td>boy dats coldtyga dwn bad for cufin dat hoe i...</td>\n",
              "    </tr>\n",
              "    <tr>\n",
              "      <th>2</th>\n",
              "      <td>2</td>\n",
              "      <td>3</td>\n",
              "      <td>0</td>\n",
              "      <td>3</td>\n",
              "      <td>0</td>\n",
              "      <td>1</td>\n",
              "      <td>dawg you ever fuck a bitch and she start to c...</td>\n",
              "    </tr>\n",
              "    <tr>\n",
              "      <th>3</th>\n",
              "      <td>3</td>\n",
              "      <td>3</td>\n",
              "      <td>0</td>\n",
              "      <td>2</td>\n",
              "      <td>1</td>\n",
              "      <td>1</td>\n",
              "      <td>she lok like a trany</td>\n",
              "    </tr>\n",
              "    <tr>\n",
              "      <th>4</th>\n",
              "      <td>4</td>\n",
              "      <td>6</td>\n",
              "      <td>0</td>\n",
              "      <td>6</td>\n",
              "      <td>0</td>\n",
              "      <td>1</td>\n",
              "      <td>the shit you hear about me might be true or i...</td>\n",
              "    </tr>\n",
              "    <tr>\n",
              "      <th>...</th>\n",
              "      <td>...</td>\n",
              "      <td>...</td>\n",
              "      <td>...</td>\n",
              "      <td>...</td>\n",
              "      <td>...</td>\n",
              "      <td>...</td>\n",
              "      <td>...</td>\n",
              "    </tr>\n",
              "    <tr>\n",
              "      <th>24768</th>\n",
              "      <td>25291</td>\n",
              "      <td>3</td>\n",
              "      <td>0</td>\n",
              "      <td>2</td>\n",
              "      <td>1</td>\n",
              "      <td>1</td>\n",
              "      <td>yous a muthafin lie right his tl is trash now ...</td>\n",
              "    </tr>\n",
              "    <tr>\n",
              "      <th>24769</th>\n",
              "      <td>25292</td>\n",
              "      <td>3</td>\n",
              "      <td>0</td>\n",
              "      <td>1</td>\n",
              "      <td>2</td>\n",
              "      <td>2</td>\n",
              "      <td>youve gone and broke the wrong heart baby and ...</td>\n",
              "    </tr>\n",
              "    <tr>\n",
              "      <th>24770</th>\n",
              "      <td>25294</td>\n",
              "      <td>3</td>\n",
              "      <td>0</td>\n",
              "      <td>3</td>\n",
              "      <td>0</td>\n",
              "      <td>1</td>\n",
              "      <td>young buck wana eat dat niguh like i aint fuck...</td>\n",
              "    </tr>\n",
              "    <tr>\n",
              "      <th>24771</th>\n",
              "      <td>25295</td>\n",
              "      <td>6</td>\n",
              "      <td>0</td>\n",
              "      <td>6</td>\n",
              "      <td>0</td>\n",
              "      <td>1</td>\n",
              "      <td>you got wild bitches telin you lies</td>\n",
              "    </tr>\n",
              "    <tr>\n",
              "      <th>24772</th>\n",
              "      <td>25296</td>\n",
              "      <td>3</td>\n",
              "      <td>0</td>\n",
              "      <td>0</td>\n",
              "      <td>3</td>\n",
              "      <td>2</td>\n",
              "      <td>rufled ntac eilen dahlia beautiful color combi...</td>\n",
              "    </tr>\n",
              "  </tbody>\n",
              "</table>\n",
              "<p>24773 rows × 7 columns</p>\n",
              "</div>\n",
              "      <button class=\"colab-df-convert\" onclick=\"convertToInteractive('df-36d6f5f7-e93e-401e-bca6-0ea9f167bfc8')\"\n",
              "              title=\"Convert this dataframe to an interactive table.\"\n",
              "              style=\"display:none;\">\n",
              "        \n",
              "  <svg xmlns=\"http://www.w3.org/2000/svg\" height=\"24px\"viewBox=\"0 0 24 24\"\n",
              "       width=\"24px\">\n",
              "    <path d=\"M0 0h24v24H0V0z\" fill=\"none\"/>\n",
              "    <path d=\"M18.56 5.44l.94 2.06.94-2.06 2.06-.94-2.06-.94-.94-2.06-.94 2.06-2.06.94zm-11 1L8.5 8.5l.94-2.06 2.06-.94-2.06-.94L8.5 2.5l-.94 2.06-2.06.94zm10 10l.94 2.06.94-2.06 2.06-.94-2.06-.94-.94-2.06-.94 2.06-2.06.94z\"/><path d=\"M17.41 7.96l-1.37-1.37c-.4-.4-.92-.59-1.43-.59-.52 0-1.04.2-1.43.59L10.3 9.45l-7.72 7.72c-.78.78-.78 2.05 0 2.83L4 21.41c.39.39.9.59 1.41.59.51 0 1.02-.2 1.41-.59l7.78-7.78 2.81-2.81c.8-.78.8-2.07 0-2.86zM5.41 20L4 18.59l7.72-7.72 1.47 1.35L5.41 20z\"/>\n",
              "  </svg>\n",
              "      </button>\n",
              "      \n",
              "  <style>\n",
              "    .colab-df-container {\n",
              "      display:flex;\n",
              "      flex-wrap:wrap;\n",
              "      gap: 12px;\n",
              "    }\n",
              "\n",
              "    .colab-df-convert {\n",
              "      background-color: #E8F0FE;\n",
              "      border: none;\n",
              "      border-radius: 50%;\n",
              "      cursor: pointer;\n",
              "      display: none;\n",
              "      fill: #1967D2;\n",
              "      height: 32px;\n",
              "      padding: 0 0 0 0;\n",
              "      width: 32px;\n",
              "    }\n",
              "\n",
              "    .colab-df-convert:hover {\n",
              "      background-color: #E2EBFA;\n",
              "      box-shadow: 0px 1px 2px rgba(60, 64, 67, 0.3), 0px 1px 3px 1px rgba(60, 64, 67, 0.15);\n",
              "      fill: #174EA6;\n",
              "    }\n",
              "\n",
              "    [theme=dark] .colab-df-convert {\n",
              "      background-color: #3B4455;\n",
              "      fill: #D2E3FC;\n",
              "    }\n",
              "\n",
              "    [theme=dark] .colab-df-convert:hover {\n",
              "      background-color: #434B5C;\n",
              "      box-shadow: 0px 1px 3px 1px rgba(0, 0, 0, 0.15);\n",
              "      filter: drop-shadow(0px 1px 2px rgba(0, 0, 0, 0.3));\n",
              "      fill: #FFFFFF;\n",
              "    }\n",
              "  </style>\n",
              "\n",
              "      <script>\n",
              "        const buttonEl =\n",
              "          document.querySelector('#df-36d6f5f7-e93e-401e-bca6-0ea9f167bfc8 button.colab-df-convert');\n",
              "        buttonEl.style.display =\n",
              "          google.colab.kernel.accessAllowed ? 'block' : 'none';\n",
              "\n",
              "        async function convertToInteractive(key) {\n",
              "          const element = document.querySelector('#df-36d6f5f7-e93e-401e-bca6-0ea9f167bfc8');\n",
              "          const dataTable =\n",
              "            await google.colab.kernel.invokeFunction('convertToInteractive',\n",
              "                                                     [key], {});\n",
              "          if (!dataTable) return;\n",
              "\n",
              "          const docLinkHtml = 'Like what you see? Visit the ' +\n",
              "            '<a target=\"_blank\" href=https://colab.research.google.com/notebooks/data_table.ipynb>data table notebook</a>'\n",
              "            + ' to learn more about interactive tables.';\n",
              "          element.innerHTML = '';\n",
              "          dataTable['output_type'] = 'display_data';\n",
              "          await google.colab.output.renderOutput(dataTable, element);\n",
              "          const docLink = document.createElement('div');\n",
              "          docLink.innerHTML = docLinkHtml;\n",
              "          element.appendChild(docLink);\n",
              "        }\n",
              "      </script>\n",
              "    </div>\n",
              "  </div>\n",
              "  "
            ]
          },
          "metadata": {},
          "execution_count": 2
        }
      ]
    },
    {
      "cell_type": "code",
      "source": [
        "# model = SentenceTransformer('all-MiniLM-L6-v2')\n",
        "sentences = data[\"tweet\"]\n",
        "# sentence_embeddings = model.encode(sentences)\n",
        "words = [list(s.lower().split()) for s in sentences]"
      ],
      "metadata": {
        "id": "geG6DIsqRe8r"
      },
      "execution_count": 3,
      "outputs": []
    },
    {
      "cell_type": "code",
      "source": [
        "# w2v = gensim.models.KeyedVectors.load_word2vec_format('drive/MyDrive/Colab Notebooks/GoogleNews-vectors-negative300.bin', binary=True)  \n",
        "w2v = Word2Vec(sentences=words, size=384, window=5, min_count=1, workers=4)\n",
        "# import gensim.downloader\n",
        "# w2v = gensim.downloader.load('glove-twitter-25')\n",
        "# w2v.train(words,total_examples=len(words),epochs=15)\n",
        "sentence_embeddings = [torch.as_tensor([w2v.wv[word] for word in list(s.lower().split())]) for s in sentences]"
      ],
      "metadata": {
        "colab": {
          "base_uri": "https://localhost:8080/"
        },
        "id": "PwSOGtPz11Og",
        "outputId": "ca496b7f-1551-4586-d101-0f461611f2c5"
      },
      "execution_count": 4,
      "outputs": [
        {
          "output_type": "stream",
          "name": "stderr",
          "text": [
            "<ipython-input-4-d76c2a48e765>:6: UserWarning: Creating a tensor from a list of numpy.ndarrays is extremely slow. Please consider converting the list to a single numpy.ndarray with numpy.array() before converting to a tensor. (Triggered internally at  ../torch/csrc/utils/tensor_new.cpp:201.)\n",
            "  sentence_embeddings = [torch.as_tensor([w2v.wv[word] for word in list(s.lower().split())]) for s in sentences]\n"
          ]
        }
      ]
    },
    {
      "cell_type": "code",
      "source": [
        "label = data[\"class\"]\n",
        "assert len(label) == len(sentence_embeddings)"
      ],
      "metadata": {
        "id": "ki3pRLAeT24w"
      },
      "execution_count": 5,
      "outputs": []
    },
    {
      "cell_type": "markdown",
      "source": [
        "# Train-validation-test split"
      ],
      "metadata": {
        "id": "mvbeeSpdUtwt"
      }
    },
    {
      "cell_type": "code",
      "source": [
        "X_train, X_rem, y_train, y_rem = train_test_split(sentence_embeddings,label, train_size=0.7,stratify=label)\n",
        "X_valid, X_test, y_valid, y_test = train_test_split(X_rem,y_rem, test_size=0.5)"
      ],
      "metadata": {
        "id": "CWB8uMW9UJSg"
      },
      "execution_count": 6,
      "outputs": []
    },
    {
      "cell_type": "code",
      "source": [
        "from torch.utils.data import Dataset, DataLoader\n",
        "from torch.nn.utils.rnn import pad_sequence\n",
        "\n",
        "class Tweet(Dataset):\n",
        "    def __init__(self, X,y, transform=None):\n",
        "        self.X = pad_sequence(X,batch_first=True)\n",
        "        self.y = torch.as_tensor(np.array(y))\n",
        "        self.transform = transform\n",
        "\n",
        "    def __len__(self):\n",
        "        return len(self.y)\n",
        "\n",
        "    def __getitem__(self, idx):\n",
        "        sentence = self.X[idx]\n",
        "        label = self.y[idx]\n",
        "        sample = {'sentence': sentence, 'label': label}\n",
        "\n",
        "        if self.transform:\n",
        "            sample = self.transform(sample)\n",
        "\n",
        "        return sample"
      ],
      "metadata": {
        "id": "QSbvmwrcf8wF"
      },
      "execution_count": 7,
      "outputs": []
    },
    {
      "cell_type": "markdown",
      "source": [
        "# Define the model"
      ],
      "metadata": {
        "id": "v8jbV7gZWIGB"
      }
    },
    {
      "cell_type": "code",
      "source": [
        "hidden_size = 128\n",
        "output_size = 3\n",
        "batch_size = 50\n",
        "\n",
        "valid_loss = []"
      ],
      "metadata": {
        "id": "dOpX0gRfEvoz"
      },
      "execution_count": 8,
      "outputs": []
    },
    {
      "cell_type": "code",
      "source": [
        "import torch.nn as nn\n",
        "import torch\n",
        "from torch.autograd import Variable\n",
        "\n",
        "\n",
        "class lstm(nn.Module):\n",
        "    def __init__(self, embedding_length=384):\n",
        "        super(lstm, self).__init__()\n",
        "  \n",
        "        self.hidden_size = hidden_size\n",
        "        self.output_size = output_size\n",
        "        self.batch_size = batch_size\n",
        "        self.lstm = nn.LSTM(embedding_length, self.hidden_size,batch_first=True)\n",
        "        self.label = nn.Linear(self.hidden_size, self.output_size)\n",
        "        self.to(\"cuda\")\n",
        "\n",
        "\n",
        "    def forward(self,input):\n",
        "\n",
        "        input = input.to(\"cuda\")\n",
        "\n",
        "\n",
        "        h_0 = Variable(torch.zeros(1, len(input), self.hidden_size).cuda())\n",
        "        c_0 = Variable(torch.zeros(1, len(input), self.hidden_size).cuda())\n",
        "\n",
        "\n",
        "        output, (final_hidden_state, final_cell_state) = self.lstm(input, (h_0, c_0))\n",
        "\n",
        "        return self.label(final_hidden_state[-1])\n",
        "    \n",
        "\n",
        "    def fit(self, train_loader, epochs=100,lr=1e-5,interval=100):\n",
        "        criterion = torch.nn.CrossEntropyLoss()\n",
        "        optimizer = torch.optim.Adam(self.parameters(), lr=lr)\n",
        "\n",
        "        for epoch in range(epochs):\n",
        "            running_loss = 0.0\n",
        "            self.train()\n",
        "\n",
        "            for i_batch, sample in enumerate(train_loader):\n",
        "                sentences, labels = sample['sentence'].to(\"cuda\"), sample['label'].to(\"cuda\")\n",
        "\n",
        "                outputs = self(sentences)\n",
        "                loss = criterion(\n",
        "                    outputs,\n",
        "                    labels,\n",
        "                )\n",
        "\n",
        "                optimizer.zero_grad()\n",
        "                loss.backward()\n",
        "                optimizer.step()\n",
        "                running_loss += loss.item()\n",
        "\n",
        "                if i_batch % interval == 0 and i_batch > 0:\n",
        "                    print(f\"epoch:{epoch},batch: {i_batch}, loss: {running_loss/interval}\")\n",
        "                    running_loss = 0\n",
        "            valid_loss.append([epoch,self.validate(valid_loader)])\n",
        "\n",
        "    def validate(self, valid_loader):\n",
        "        running_loss = 0\n",
        "        val_count = 0\n",
        "        self.eval()\n",
        "        criterion = torch.nn.CrossEntropyLoss()\n",
        "\n",
        "        for i_batch, sample in enumerate(valid_loader):\n",
        "            sentences, labels = sample['sentence'].to(\"cuda\"), sample['label'].to(\"cuda\")\n",
        "\n",
        "            outputs = self(sentences)\n",
        "            loss = criterion(\n",
        "                outputs,\n",
        "                labels,\n",
        "            )\n",
        "\n",
        "            running_loss += loss.item()\n",
        "            val_count += 1\n",
        "\n",
        "        avg_loss = running_loss / val_count\n",
        "        return avg_loss\n",
        "\n",
        "    def accuracy(self,test_loader):\n",
        "        self.eval()\n",
        "        for i_batch, sample in enumerate(test_loader):\n",
        "            sentences, labels = sample['sentence'], sample['label']\n",
        "    \n",
        "            outputs = self(sentences)\n",
        "            pred = np.array([np.argmax(outputs[i].cpu().detach().numpy()) for i in range(len(outputs))])\n",
        "            assert len(pred) == len(labels)\n",
        "\n",
        "            return np.sum(labels.numpy() == pred) / len(pred)\n",
        "\n",
        "\n",
        "    def predict(self,sentence):\n",
        "        vec = torch.as_tensor([w2v.wv[word] for word in list(sentence.lower().split())])\n",
        "        vec = vec.unsqueeze(0)\n",
        "        index =  np.argmax(self(vec).cpu().detach().numpy()) \n",
        "\n",
        "        label_to_senti = {0:\"hate speech\",1:\"offensive language\",2:\"neither\"}\n",
        "        return label_to_senti[index]"
      ],
      "metadata": {
        "id": "Bp-5MBCQVPw5"
      },
      "execution_count": 9,
      "outputs": []
    },
    {
      "cell_type": "code",
      "source": [
        "train_data = Tweet(X_train, y_train)\n",
        "train_loader = DataLoader(train_data, batch_size=batch_size, shuffle=True, num_workers=0,drop_last=True)\n",
        "\n",
        "valid_data = Tweet(X_valid, y_valid)\n",
        "valid_loader = DataLoader(valid_data, batch_size=batch_size, shuffle=True, num_workers=0,drop_last=True)\n",
        "\n",
        "test_data = Tweet(X_test, y_test)\n",
        "test_loader = DataLoader(test_data, batch_size=len(X_test), shuffle=True, num_workers=0,drop_last=True)"
      ],
      "metadata": {
        "id": "iS5akB3pE_sO"
      },
      "execution_count": 10,
      "outputs": []
    },
    {
      "cell_type": "code",
      "source": [
        "lstm_model = lstm()\n",
        "valid_loss = []\n",
        "lstm_model.fit(train_loader=train_loader)"
      ],
      "metadata": {
        "id": "TlNCSyJEatXa"
      },
      "execution_count": 11,
      "outputs": []
    },
    {
      "cell_type": "code",
      "source": [
        "import matplotlib.pyplot as plt\n",
        "plt.plot(np.array(valid_loss)[:,0],np.array(valid_loss)[:,1])\n",
        "plt.xlabel(\"epoch\")\n",
        "plt.ylabel(\"valid loss\")"
      ],
      "metadata": {
        "colab": {
          "base_uri": "https://localhost:8080/",
          "height": 226
        },
        "id": "c4pMer0t_ZcG",
        "outputId": "0ac5afad-58a4-4a82-c130-02038ab52dda"
      },
      "execution_count": 12,
      "outputs": [
        {
          "output_type": "error",
          "ename": "IndexError",
          "evalue": "ignored",
          "traceback": [
            "\u001b[0;31m---------------------------------------------------------------------------\u001b[0m",
            "\u001b[0;31mIndexError\u001b[0m                                Traceback (most recent call last)",
            "\u001b[0;32m<ipython-input-12-715225e603a4>\u001b[0m in \u001b[0;36m<module>\u001b[0;34m\u001b[0m\n\u001b[1;32m      1\u001b[0m \u001b[0;32mimport\u001b[0m \u001b[0mmatplotlib\u001b[0m\u001b[0;34m.\u001b[0m\u001b[0mpyplot\u001b[0m \u001b[0;32mas\u001b[0m \u001b[0mplt\u001b[0m\u001b[0;34m\u001b[0m\u001b[0;34m\u001b[0m\u001b[0m\n\u001b[0;32m----> 2\u001b[0;31m \u001b[0mplt\u001b[0m\u001b[0;34m.\u001b[0m\u001b[0mplot\u001b[0m\u001b[0;34m(\u001b[0m\u001b[0mnp\u001b[0m\u001b[0;34m.\u001b[0m\u001b[0marray\u001b[0m\u001b[0;34m(\u001b[0m\u001b[0mvalid_loss\u001b[0m\u001b[0;34m)\u001b[0m\u001b[0;34m[\u001b[0m\u001b[0;34m:\u001b[0m\u001b[0;34m,\u001b[0m\u001b[0;36m0\u001b[0m\u001b[0;34m]\u001b[0m\u001b[0;34m,\u001b[0m\u001b[0mnp\u001b[0m\u001b[0;34m.\u001b[0m\u001b[0marray\u001b[0m\u001b[0;34m(\u001b[0m\u001b[0mvalid_loss\u001b[0m\u001b[0;34m)\u001b[0m\u001b[0;34m[\u001b[0m\u001b[0;34m:\u001b[0m\u001b[0;34m,\u001b[0m\u001b[0;36m1\u001b[0m\u001b[0;34m]\u001b[0m\u001b[0;34m)\u001b[0m\u001b[0;34m\u001b[0m\u001b[0;34m\u001b[0m\u001b[0m\n\u001b[0m\u001b[1;32m      3\u001b[0m \u001b[0mplt\u001b[0m\u001b[0;34m.\u001b[0m\u001b[0mxlabel\u001b[0m\u001b[0;34m(\u001b[0m\u001b[0;34m\"epoch\"\u001b[0m\u001b[0;34m)\u001b[0m\u001b[0;34m\u001b[0m\u001b[0;34m\u001b[0m\u001b[0m\n\u001b[1;32m      4\u001b[0m \u001b[0mplt\u001b[0m\u001b[0;34m.\u001b[0m\u001b[0mylabel\u001b[0m\u001b[0;34m(\u001b[0m\u001b[0;34m\"valid loss\"\u001b[0m\u001b[0;34m)\u001b[0m\u001b[0;34m\u001b[0m\u001b[0;34m\u001b[0m\u001b[0m\n",
            "\u001b[0;31mIndexError\u001b[0m: too many indices for array: array is 1-dimensional, but 2 were indexed"
          ]
        }
      ]
    },
    {
      "cell_type": "code",
      "source": [
        "lstm_model.accuracy(test_loader)"
      ],
      "metadata": {
        "colab": {
          "base_uri": "https://localhost:8080/"
        },
        "id": "Or5Y-eFEJff1",
        "outputId": "dc303746-7aa6-4ae7-9c7a-91f98d614ad8"
      },
      "execution_count": 13,
      "outputs": [
        {
          "output_type": "execute_result",
          "data": {
            "text/plain": [
              "0.16630785791173305"
            ]
          },
          "metadata": {},
          "execution_count": 13
        }
      ]
    },
    {
      "cell_type": "code",
      "source": [
        "lstm_model.predict(\"you are a dog\")"
      ],
      "metadata": {
        "colab": {
          "base_uri": "https://localhost:8080/",
          "height": 36
        },
        "id": "_9kRgVB1XACk",
        "outputId": "7a67eb70-0b6c-499e-b687-93ad496cadfd"
      },
      "execution_count": 14,
      "outputs": [
        {
          "output_type": "execute_result",
          "data": {
            "text/plain": [
              "'neither'"
            ],
            "application/vnd.google.colaboratory.intrinsic+json": {
              "type": "string"
            }
          },
          "metadata": {},
          "execution_count": 14
        }
      ]
    },
    {
      "cell_type": "code",
      "source": [],
      "metadata": {
        "id": "QllGxxs8XFps"
      },
      "execution_count": null,
      "outputs": []
    }
  ]
}